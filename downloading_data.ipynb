{
 "cells": [
  {
   "cell_type": "code",
   "execution_count": 32,
   "metadata": {},
   "outputs": [],
   "source": [
    "import pandas as pd\n",
    "from rdkit import Chem"
   ]
  },
  {
   "cell_type": "code",
   "execution_count": 33,
   "metadata": {},
   "outputs": [],
   "source": [
    "ROOT = \"s3://sg-datasources-v2\""
   ]
  },
  {
   "cell_type": "code",
   "execution_count": 34,
   "metadata": {},
   "outputs": [],
   "source": [
    "df_all = pd.read_parquet(f\"{ROOT}/pre_filtered/measurements/relation.parquet/\")"
   ]
  },
  {
   "cell_type": "code",
   "execution_count": 35,
   "metadata": {},
   "outputs": [],
   "source": [
    "# Create a dict whose keys are the CP targets and values are dataframes"
   ]
  },
  {
   "cell_type": "code",
   "execution_count": 36,
   "metadata": {},
   "outputs": [
    {
     "data": {
      "text/plain": [
       "IC50                    7713181\n",
       "Ki                      1748527\n",
       "Inhibition               927259\n",
       "EC50                     493315\n",
       "Kd                       350907\n",
       "InhibitionDiffAt10um     306893\n",
       "InhibitionDiffAt1um      306893\n",
       "LogS                     224107\n",
       "LogD                      30131\n",
       "Papp                      10529\n",
       "Permeability               1792\n",
       "MS_Human                     67\n",
       "MS_Mouse                     67\n",
       "fup_Human                    67\n",
       "fup_Mouse                    67\n",
       "Name: type, dtype: int64"
      ]
     },
     "execution_count": 36,
     "metadata": {},
     "output_type": "execute_result"
    }
   ],
   "source": [
    "df_all.type.value_counts()"
   ]
  },
  {
   "cell_type": "code",
   "execution_count": 37,
   "metadata": {},
   "outputs": [],
   "source": [
    "cp_data_dict = {}"
   ]
  },
  {
   "cell_type": "code",
   "execution_count": 38,
   "metadata": {},
   "outputs": [],
   "source": [
    "cp_data_dict['LogS'] = df_all[df_all['type'] == 'LogS']\n",
    "\n",
    "cp_data_dict['LogD'] = df_all[df_all['type'] == 'LogD']\n",
    "\n",
    "cp_data_dict['Papp'] = df_all[df_all['type'] == 'Papp']\n"
   ]
  },
  {
   "cell_type": "code",
   "execution_count": 39,
   "metadata": {},
   "outputs": [
    {
     "data": {
      "text/html": [
       "<div>\n",
       "<style scoped>\n",
       "    .dataframe tbody tr th:only-of-type {\n",
       "        vertical-align: middle;\n",
       "    }\n",
       "\n",
       "    .dataframe tbody tr th {\n",
       "        vertical-align: top;\n",
       "    }\n",
       "\n",
       "    .dataframe thead th {\n",
       "        text-align: right;\n",
       "    }\n",
       "</style>\n",
       "<table border=\"1\" class=\"dataframe\">\n",
       "  <thead>\n",
       "    <tr style=\"text-align: right;\">\n",
       "      <th></th>\n",
       "      <th>id</th>\n",
       "      <th>relation</th>\n",
       "      <th>type</th>\n",
       "      <th>source</th>\n",
       "      <th>version</th>\n",
       "      <th>filter</th>\n",
       "    </tr>\n",
       "  </thead>\n",
       "  <tbody>\n",
       "    <tr>\n",
       "      <th>493315</th>\n",
       "      <td>3155</td>\n",
       "      <td>=</td>\n",
       "      <td>IC50</td>\n",
       "      <td>bindingdb</td>\n",
       "      <td>v2022m4</td>\n",
       "      <td>identity</td>\n",
       "    </tr>\n",
       "    <tr>\n",
       "      <th>493316</th>\n",
       "      <td>3199</td>\n",
       "      <td>=</td>\n",
       "      <td>IC50</td>\n",
       "      <td>bindingdb</td>\n",
       "      <td>v2022m4</td>\n",
       "      <td>identity</td>\n",
       "    </tr>\n",
       "    <tr>\n",
       "      <th>493317</th>\n",
       "      <td>3327</td>\n",
       "      <td>=</td>\n",
       "      <td>IC50</td>\n",
       "      <td>bindingdb</td>\n",
       "      <td>v2022m4</td>\n",
       "      <td>identity</td>\n",
       "    </tr>\n",
       "    <tr>\n",
       "      <th>493318</th>\n",
       "      <td>3391</td>\n",
       "      <td>=</td>\n",
       "      <td>IC50</td>\n",
       "      <td>bindingdb</td>\n",
       "      <td>v2022m4</td>\n",
       "      <td>identity</td>\n",
       "    </tr>\n",
       "    <tr>\n",
       "      <th>493319</th>\n",
       "      <td>3800</td>\n",
       "      <td>=</td>\n",
       "      <td>IC50</td>\n",
       "      <td>bindingdb</td>\n",
       "      <td>v2022m4</td>\n",
       "      <td>identity</td>\n",
       "    </tr>\n",
       "    <tr>\n",
       "      <th>...</th>\n",
       "      <td>...</td>\n",
       "      <td>...</td>\n",
       "      <td>...</td>\n",
       "      <td>...</td>\n",
       "      <td>...</td>\n",
       "      <td>...</td>\n",
       "    </tr>\n",
       "    <tr>\n",
       "      <th>8206491</th>\n",
       "      <td>532575944705</td>\n",
       "      <td>&gt;</td>\n",
       "      <td>IC50</td>\n",
       "      <td>sg_cpi_experiment</td>\n",
       "      <td>v20221231</td>\n",
       "      <td>identity</td>\n",
       "    </tr>\n",
       "    <tr>\n",
       "      <th>8206492</th>\n",
       "      <td>541165879296</td>\n",
       "      <td>&gt;</td>\n",
       "      <td>IC50</td>\n",
       "      <td>sg_cpi_experiment</td>\n",
       "      <td>v20221231</td>\n",
       "      <td>identity</td>\n",
       "    </tr>\n",
       "    <tr>\n",
       "      <th>8206493</th>\n",
       "      <td>541165879297</td>\n",
       "      <td>&gt;</td>\n",
       "      <td>IC50</td>\n",
       "      <td>sg_cpi_experiment</td>\n",
       "      <td>v20221231</td>\n",
       "      <td>identity</td>\n",
       "    </tr>\n",
       "    <tr>\n",
       "      <th>8206494</th>\n",
       "      <td>541165879298</td>\n",
       "      <td>&gt;</td>\n",
       "      <td>IC50</td>\n",
       "      <td>sg_cpi_experiment</td>\n",
       "      <td>v20221231</td>\n",
       "      <td>identity</td>\n",
       "    </tr>\n",
       "    <tr>\n",
       "      <th>8206495</th>\n",
       "      <td>541165879299</td>\n",
       "      <td>&gt;</td>\n",
       "      <td>IC50</td>\n",
       "      <td>sg_cpi_experiment</td>\n",
       "      <td>v20221231</td>\n",
       "      <td>identity</td>\n",
       "    </tr>\n",
       "  </tbody>\n",
       "</table>\n",
       "<p>7713181 rows × 6 columns</p>\n",
       "</div>"
      ],
      "text/plain": [
       "                   id relation  type             source    version    filter\n",
       "493315           3155        =  IC50          bindingdb    v2022m4  identity\n",
       "493316           3199        =  IC50          bindingdb    v2022m4  identity\n",
       "493317           3327        =  IC50          bindingdb    v2022m4  identity\n",
       "493318           3391        =  IC50          bindingdb    v2022m4  identity\n",
       "493319           3800        =  IC50          bindingdb    v2022m4  identity\n",
       "...               ...      ...   ...                ...        ...       ...\n",
       "8206491  532575944705        >  IC50  sg_cpi_experiment  v20221231  identity\n",
       "8206492  541165879296        >  IC50  sg_cpi_experiment  v20221231  identity\n",
       "8206493  541165879297        >  IC50  sg_cpi_experiment  v20221231  identity\n",
       "8206494  541165879298        >  IC50  sg_cpi_experiment  v20221231  identity\n",
       "8206495  541165879299        >  IC50  sg_cpi_experiment  v20221231  identity\n",
       "\n",
       "[7713181 rows x 6 columns]"
      ]
     },
     "execution_count": 39,
     "metadata": {},
     "output_type": "execute_result"
    }
   ],
   "source": [
    "df_all[df_all['type'] == 'IC50']"
   ]
  },
  {
   "cell_type": "code",
   "execution_count": 40,
   "metadata": {},
   "outputs": [],
   "source": [
    "# Getting the IC50 related data"
   ]
  },
  {
   "cell_type": "code",
   "execution_count": 41,
   "metadata": {},
   "outputs": [],
   "source": [
    "TYPE = 'IC50'"
   ]
  },
  {
   "cell_type": "code",
   "execution_count": 42,
   "metadata": {},
   "outputs": [
    {
     "name": "stdout",
     "output_type": "stream",
     "text": [
      "CPU times: user 3.44 s, sys: 990 ms, total: 4.43 s\n",
      "Wall time: 53 s\n"
     ]
    }
   ],
   "source": [
    "%%time\n",
    "# Get y_value scalar\n",
    "df = pd.read_parquet(\n",
    "    f\"{ROOT}/pre_filtered/measurements/value.parquet/\",\n",
    "    filters=[(\"type\", \"=\", TYPE)]\n",
    ")"
   ]
  },
  {
   "cell_type": "code",
   "execution_count": 43,
   "metadata": {},
   "outputs": [
    {
     "name": "stdout",
     "output_type": "stream",
     "text": [
      "CPU times: user 8.09 s, sys: 1.6 s, total: 9.69 s\n",
      "Wall time: 55.9 s\n"
     ]
    }
   ],
   "source": [
    "%%time\n",
    "# Cf.in case of reading all\n",
    "df = df.merge(\n",
    "    pd.read_parquet(\n",
    "        f\"{ROOT}/pre_filtered/measurements/relation.parquet/\",\n",
    "        filters=[(\"type\", \"=\", TYPE)],\n",
    "    ),\n",
    "    on=[\"id\", \"type\", \"source\", \"version\", \"filter\"],\n",
    ")"
   ]
  },
  {
   "cell_type": "code",
   "execution_count": 44,
   "metadata": {},
   "outputs": [],
   "source": [
    "# Cf.in case of reading all\n",
    "df = df.merge(\n",
    "    pd.read_parquet(\n",
    "        f\"{ROOT}/pre_filtered/measurements/protein_id.parquet/\",\n",
    "        filters=[(\"type\", \"=\", TYPE)],\n",
    "    ),\n",
    "    on=[\"id\", \"type\", \"source\", \"version\", \"filter\"],\n",
    ")"
   ]
  },
  {
   "cell_type": "code",
   "execution_count": 45,
   "metadata": {},
   "outputs": [
    {
     "data": {
      "text/html": [
       "<div>\n",
       "<style scoped>\n",
       "    .dataframe tbody tr th:only-of-type {\n",
       "        vertical-align: middle;\n",
       "    }\n",
       "\n",
       "    .dataframe tbody tr th {\n",
       "        vertical-align: top;\n",
       "    }\n",
       "\n",
       "    .dataframe thead th {\n",
       "        text-align: right;\n",
       "    }\n",
       "</style>\n",
       "<table border=\"1\" class=\"dataframe\">\n",
       "  <thead>\n",
       "    <tr style=\"text-align: right;\">\n",
       "      <th></th>\n",
       "      <th>id</th>\n",
       "      <th>value</th>\n",
       "      <th>type</th>\n",
       "      <th>source</th>\n",
       "      <th>version</th>\n",
       "      <th>filter</th>\n",
       "      <th>relation</th>\n",
       "      <th>protein_id</th>\n",
       "    </tr>\n",
       "  </thead>\n",
       "  <tbody>\n",
       "    <tr>\n",
       "      <th>0</th>\n",
       "      <td>3155</td>\n",
       "      <td>7700.0</td>\n",
       "      <td>IC50</td>\n",
       "      <td>bindingdb</td>\n",
       "      <td>v2022m4</td>\n",
       "      <td>identity</td>\n",
       "      <td>=</td>\n",
       "      <td>P68403</td>\n",
       "    </tr>\n",
       "    <tr>\n",
       "      <th>1</th>\n",
       "      <td>3199</td>\n",
       "      <td>14500.0</td>\n",
       "      <td>IC50</td>\n",
       "      <td>bindingdb</td>\n",
       "      <td>v2022m4</td>\n",
       "      <td>identity</td>\n",
       "      <td>=</td>\n",
       "      <td>P00517</td>\n",
       "    </tr>\n",
       "    <tr>\n",
       "      <th>2</th>\n",
       "      <td>3327</td>\n",
       "      <td>2000.0</td>\n",
       "      <td>IC50</td>\n",
       "      <td>bindingdb</td>\n",
       "      <td>v2022m4</td>\n",
       "      <td>identity</td>\n",
       "      <td>=</td>\n",
       "      <td>P00517</td>\n",
       "    </tr>\n",
       "    <tr>\n",
       "      <th>3</th>\n",
       "      <td>3391</td>\n",
       "      <td>3900.0</td>\n",
       "      <td>IC50</td>\n",
       "      <td>bindingdb</td>\n",
       "      <td>v2022m4</td>\n",
       "      <td>identity</td>\n",
       "      <td>=</td>\n",
       "      <td>P00517</td>\n",
       "    </tr>\n",
       "    <tr>\n",
       "      <th>4</th>\n",
       "      <td>3800</td>\n",
       "      <td>19000.0</td>\n",
       "      <td>IC50</td>\n",
       "      <td>bindingdb</td>\n",
       "      <td>v2022m4</td>\n",
       "      <td>identity</td>\n",
       "      <td>=</td>\n",
       "      <td>P04409</td>\n",
       "    </tr>\n",
       "  </tbody>\n",
       "</table>\n",
       "</div>"
      ],
      "text/plain": [
       "     id    value  type     source  version    filter relation protein_id\n",
       "0  3155   7700.0  IC50  bindingdb  v2022m4  identity        =     P68403\n",
       "1  3199  14500.0  IC50  bindingdb  v2022m4  identity        =     P00517\n",
       "2  3327   2000.0  IC50  bindingdb  v2022m4  identity        =     P00517\n",
       "3  3391   3900.0  IC50  bindingdb  v2022m4  identity        =     P00517\n",
       "4  3800  19000.0  IC50  bindingdb  v2022m4  identity        =     P04409"
      ]
     },
     "execution_count": 45,
     "metadata": {},
     "output_type": "execute_result"
    }
   ],
   "source": [
    "df.head()"
   ]
  },
  {
   "cell_type": "code",
   "execution_count": 46,
   "metadata": {},
   "outputs": [],
   "source": [
    "UNIPROT_IDS = {\n",
    "    \"hERG\": \"Q12809\",\n",
    "    \"CYP1A2\": \"P05177\",\n",
    "    \"CYP2B6\": \"P20813\",\n",
    "    \"CYP2C8\": \"P10632\",\n",
    "    \"CYP2C19\": \"P33261\",\n",
    "    \"CYP2C9\": \"P11712\",\n",
    "    \"CYP2D6\": \"P10635\",\n",
    "    \"CYP3A4\": \"P08684\",\n",
    "}"
   ]
  },
  {
   "cell_type": "code",
   "execution_count": 47,
   "metadata": {},
   "outputs": [],
   "source": [
    "for k in UNIPROT_IDS.keys():\n",
    "    cp_data_dict[k] = df[df.protein_id == UNIPROT_IDS[k]]\n",
    "    "
   ]
  },
  {
   "cell_type": "code",
   "execution_count": 50,
   "metadata": {},
   "outputs": [
    {
     "name": "stdout",
     "output_type": "stream",
     "text": [
      "LogS 224107\n",
      "LogD 30131\n",
      "Papp 10529\n",
      "hERG 42620\n",
      "CYP1A2 10906\n",
      "CYP2B6 1873\n",
      "CYP2C8 2880\n",
      "CYP2C19 11587\n",
      "CYP2C9 19097\n",
      "CYP2D6 23849\n",
      "CYP3A4 37555\n"
     ]
    }
   ],
   "source": [
    "for k in cp_data_dict.keys():\n",
    "    print(k,len(cp_data_dict[k]))"
   ]
  },
  {
   "cell_type": "code",
   "execution_count": 52,
   "metadata": {},
   "outputs": [
    {
     "data": {
      "text/plain": [
       "kinect_solcuration      164273\n",
       "chembl_solcuration       34836\n",
       "acs_jcim_0c00568         10475\n",
       "aqsoldb                   9982\n",
       "phys_solcuration          2001\n",
       "aqua_solcuration          1310\n",
       "esol_solcuration          1121\n",
       "sg_cp_experiment           109\n",
       "bindingdb                    0\n",
       "minf_201000118               0\n",
       "acs_jcim_5b00642             0\n",
       "deepchemlipo                 0\n",
       "chembl                       0\n",
       "herg_central                 0\n",
       "sg_cpi_experiment            0\n",
       "pubchem                      0\n",
       "kinase_knowledgebase         0\n",
       "gostar                       0\n",
       "peerj_1405                   0\n",
       "Name: source, dtype: int64"
      ]
     },
     "execution_count": 52,
     "metadata": {},
     "output_type": "execute_result"
    }
   ],
   "source": [
    "cp_data_dict['LogS'].source.value_counts()"
   ]
  },
  {
   "cell_type": "code",
   "execution_count": 70,
   "metadata": {},
   "outputs": [],
   "source": [
    "def fetch_molbinary_data(data_dict,type):\n",
    "    \n",
    "    tmp = data_dict[type].merge(pd.read_parquet(\n",
    "        f\"{ROOT}/pre_filtered/measurements/compound_id.parquet/\",\n",
    "        filters=[(\"type\", \"=\", type)],\n",
    "    ),on = [\"id\", \"type\", \"source\", \"version\", \"filter\"])\n",
    "\n",
    "    tmp1 = tmp[[\"source\", \"version\"]].drop_duplicates()\n",
    "\n",
    "    versions = dict(zip(tmp['source'],tmp['version']))\n",
    "\n",
    "    c_filters = [[(\"source\", \"=\", s), (\"version\", \"=\", v)] for s, v in versions.items()]\n",
    "\n",
    "    c_df = pd.concat([pd.read_parquet(\n",
    "        f\"{ROOT}/pre_filtered/compounds/molbinary.parquet/\",\n",
    "        filters=filters) for filters in c_filters])\n",
    "\n",
    "    tmp2 = tmp.merge(c_df, left_on=[\"source\", \"version\", \"compound_id\", \"filter\"],\n",
    "     right_on=[\"source\", \"version\", \"id\", \"filter\"], \n",
    "     suffixes=[\"\", \"_c\"])\n",
    "     \n",
    "    return tmp2     "
   ]
  },
  {
   "cell_type": "code",
   "execution_count": 72,
   "metadata": {},
   "outputs": [
    {
     "name": "stdout",
     "output_type": "stream",
     "text": [
      "Papp\n",
      "hERG\n",
      "CYP1A2\n",
      "CYP2B6\n",
      "CYP2C8\n",
      "CYP2C19\n",
      "CYP2C9\n",
      "CYP2D6\n",
      "CYP3A4\n"
     ]
    }
   ],
   "source": [
    "cp_data_dict_mb = {}\n",
    "\n",
    "for k in cp_data_dict.keys():\n",
    "    try: \n",
    "       cp_data_dict_mb[k] = fetch_molbinary_data(cp_data_dict,k)\n",
    "    except:\n",
    "        print(k)\n",
    "        cp_data_dict_mb[k] = None   "
   ]
  },
  {
   "cell_type": "code",
   "execution_count": 77,
   "metadata": {},
   "outputs": [],
   "source": [
    "tmp = pd.read_parquet(\n",
    "        f\"{ROOT}/pre_filtered/measurements/compound_id.parquet/\",\n",
    "        filters=[(\"type\", \"=\", 'Papp')],\n",
    "    )\n"
   ]
  },
  {
   "cell_type": "code",
   "execution_count": 78,
   "metadata": {},
   "outputs": [],
   "source": [
    "tmp1 = cp_data_dict['Papp'].merge(tmp, on = [\"id\", \"type\", \"source\", \"version\", \"filter\"])"
   ]
  },
  {
   "cell_type": "code",
   "execution_count": 55,
   "metadata": {},
   "outputs": [],
   "source": [
    "tmp = cp_data_dict['LogS'].merge(pd.read_parquet(\n",
    "        f\"{ROOT}/pre_filtered/measurements/compound_id.parquet/\",\n",
    "        filters=[(\"type\", \"=\", 'LogS')],\n",
    "    ),on = [\"id\", \"type\", \"source\", \"version\", \"filter\"])"
   ]
  },
  {
   "cell_type": "code",
   "execution_count": 80,
   "metadata": {},
   "outputs": [],
   "source": [
    "len(tmp)\n",
    "\n",
    "tmp1 = tmp[[\"source\", \"version\"]].drop_duplicates()\n",
    "\n",
    "versions = dict(zip(tmp['source'],tmp['version']))"
   ]
  },
  {
   "cell_type": "code",
   "execution_count": 84,
   "metadata": {},
   "outputs": [],
   "source": [
    "c_filters = [[(\"source\", \"=\", s), (\"version\", \"=\", v)] for s, v in versions.items()]\n"
   ]
  },
  {
   "cell_type": "code",
   "execution_count": 85,
   "metadata": {},
   "outputs": [
    {
     "data": {
      "text/plain": [
       "[[('source', '=', 'acs_jcim_0c00568'), ('version', '=', 'v20200817')],\n",
       " [('source', '=', 'acs_jcim_5b00642'), ('version', '=', 'v201606')],\n",
       " [('source', '=', 'chembl'), ('version', '=', 'v29')],\n",
       " [('source', '=', 'minf_201000118'), ('version', '=', 'v20110331')],\n",
       " [('source', '=', 'peerj_1405'), ('version', '=', 'v201511')],\n",
       " [('source', '=', 'sg_cp_experiment'), ('version', '=', 'v20220823_1')]]"
      ]
     },
     "execution_count": 85,
     "metadata": {},
     "output_type": "execute_result"
    }
   ],
   "source": [
    "c_filters"
   ]
  },
  {
   "cell_type": "code",
   "execution_count": 88,
   "metadata": {},
   "outputs": [
    {
     "name": "stdout",
     "output_type": "stream",
     "text": [
      "[('source', '=', 'acs_jcim_0c00568'), ('version', '=', 'v20200817')]\n",
      "[('source', '=', 'acs_jcim_5b00642'), ('version', '=', 'v201606')]\n",
      "[('source', '=', 'chembl'), ('version', '=', 'v29')]\n"
     ]
    },
    {
     "ename": "FSTimeoutError",
     "evalue": "",
     "output_type": "error",
     "traceback": [
      "\u001b[0;31m---------------------------------------------------------------------------\u001b[0m",
      "\u001b[0;31mServerTimeoutError\u001b[0m                        Traceback (most recent call last)",
      "File \u001b[0;32m~/opt/miniconda3/envs/my-rdkit-env/lib/python3.10/site-packages/aiobotocore/response.py:57\u001b[0m, in \u001b[0;36mStreamingBody.read\u001b[0;34m(self, amt)\u001b[0m\n\u001b[1;32m     56\u001b[0m \u001b[39mtry\u001b[39;00m:\n\u001b[0;32m---> 57\u001b[0m     chunk \u001b[39m=\u001b[39m \u001b[39mawait\u001b[39;00m \u001b[39mself\u001b[39m\u001b[39m.\u001b[39m__wrapped__\u001b[39m.\u001b[39mcontent\u001b[39m.\u001b[39mread(\n\u001b[1;32m     58\u001b[0m         amt \u001b[39mif\u001b[39;00m amt \u001b[39mis\u001b[39;00m \u001b[39mnot\u001b[39;00m \u001b[39mNone\u001b[39;00m \u001b[39melse\u001b[39;00m \u001b[39m-\u001b[39m\u001b[39m1\u001b[39m\n\u001b[1;32m     59\u001b[0m     )\n\u001b[1;32m     60\u001b[0m \u001b[39mexcept\u001b[39;00m asyncio\u001b[39m.\u001b[39mTimeoutError \u001b[39mas\u001b[39;00m e:\n",
      "File \u001b[0;32m~/opt/miniconda3/envs/my-rdkit-env/lib/python3.10/site-packages/aiohttp/streams.py:375\u001b[0m, in \u001b[0;36mStreamReader.read\u001b[0;34m(self, n)\u001b[0m\n\u001b[1;32m    374\u001b[0m \u001b[39mwhile\u001b[39;00m \u001b[39mTrue\u001b[39;00m:\n\u001b[0;32m--> 375\u001b[0m     block \u001b[39m=\u001b[39m \u001b[39mawait\u001b[39;00m \u001b[39mself\u001b[39m\u001b[39m.\u001b[39mreadany()\n\u001b[1;32m    376\u001b[0m     \u001b[39mif\u001b[39;00m \u001b[39mnot\u001b[39;00m block:\n",
      "File \u001b[0;32m~/opt/miniconda3/envs/my-rdkit-env/lib/python3.10/site-packages/aiohttp/streams.py:397\u001b[0m, in \u001b[0;36mStreamReader.readany\u001b[0;34m(self)\u001b[0m\n\u001b[1;32m    396\u001b[0m \u001b[39mwhile\u001b[39;00m \u001b[39mnot\u001b[39;00m \u001b[39mself\u001b[39m\u001b[39m.\u001b[39m_buffer \u001b[39mand\u001b[39;00m \u001b[39mnot\u001b[39;00m \u001b[39mself\u001b[39m\u001b[39m.\u001b[39m_eof:\n\u001b[0;32m--> 397\u001b[0m     \u001b[39mawait\u001b[39;00m \u001b[39mself\u001b[39m\u001b[39m.\u001b[39m_wait(\u001b[39m\"\u001b[39m\u001b[39mreadany\u001b[39m\u001b[39m\"\u001b[39m)\n\u001b[1;32m    399\u001b[0m \u001b[39mreturn\u001b[39;00m \u001b[39mself\u001b[39m\u001b[39m.\u001b[39m_read_nowait(\u001b[39m-\u001b[39m\u001b[39m1\u001b[39m)\n",
      "File \u001b[0;32m~/opt/miniconda3/envs/my-rdkit-env/lib/python3.10/site-packages/aiohttp/streams.py:304\u001b[0m, in \u001b[0;36mStreamReader._wait\u001b[0;34m(self, func_name)\u001b[0m\n\u001b[1;32m    303\u001b[0m     \u001b[39mwith\u001b[39;00m \u001b[39mself\u001b[39m\u001b[39m.\u001b[39m_timer:\n\u001b[0;32m--> 304\u001b[0m         \u001b[39mawait\u001b[39;00m waiter\n\u001b[1;32m    305\u001b[0m \u001b[39melse\u001b[39;00m:\n",
      "\u001b[0;31mServerTimeoutError\u001b[0m: Timeout on reading data from socket",
      "\nDuring handling of the above exception, another exception occurred:\n",
      "\u001b[0;31mAioReadTimeoutError\u001b[0m                       Traceback (most recent call last)",
      "File \u001b[0;32m~/opt/miniconda3/envs/my-rdkit-env/lib/python3.10/site-packages/fsspec/asyn.py:53\u001b[0m, in \u001b[0;36m_runner\u001b[0;34m(event, coro, result, timeout)\u001b[0m\n\u001b[1;32m     52\u001b[0m \u001b[39mtry\u001b[39;00m:\n\u001b[0;32m---> 53\u001b[0m     result[\u001b[39m0\u001b[39m] \u001b[39m=\u001b[39m \u001b[39mawait\u001b[39;00m coro\n\u001b[1;32m     54\u001b[0m \u001b[39mexcept\u001b[39;00m \u001b[39mException\u001b[39;00m \u001b[39mas\u001b[39;00m ex:\n",
      "File \u001b[0;32m~/opt/miniconda3/envs/my-rdkit-env/lib/python3.10/site-packages/s3fs/core.py:2263\u001b[0m, in \u001b[0;36m_inner_fetch\u001b[0;34m(fs, bucket, key, version_id, start, end, req_kw)\u001b[0m\n\u001b[1;32m   2255\u001b[0m resp \u001b[39m=\u001b[39m \u001b[39mawait\u001b[39;00m fs\u001b[39m.\u001b[39m_call_s3(\n\u001b[1;32m   2256\u001b[0m     \u001b[39m\"\u001b[39m\u001b[39mget_object\u001b[39m\u001b[39m\"\u001b[39m,\n\u001b[1;32m   2257\u001b[0m     Bucket\u001b[39m=\u001b[39mbucket,\n\u001b[0;32m   (...)\u001b[0m\n\u001b[1;32m   2261\u001b[0m     \u001b[39m*\u001b[39m\u001b[39m*\u001b[39mreq_kw,\n\u001b[1;32m   2262\u001b[0m )\n\u001b[0;32m-> 2263\u001b[0m \u001b[39mreturn\u001b[39;00m \u001b[39mawait\u001b[39;00m resp[\u001b[39m\"\u001b[39m\u001b[39mBody\u001b[39m\u001b[39m\"\u001b[39m]\u001b[39m.\u001b[39mread()\n",
      "File \u001b[0;32m~/opt/miniconda3/envs/my-rdkit-env/lib/python3.10/site-packages/aiobotocore/response.py:61\u001b[0m, in \u001b[0;36mStreamingBody.read\u001b[0;34m(self, amt)\u001b[0m\n\u001b[1;32m     60\u001b[0m \u001b[39mexcept\u001b[39;00m asyncio\u001b[39m.\u001b[39mTimeoutError \u001b[39mas\u001b[39;00m e:\n\u001b[0;32m---> 61\u001b[0m     \u001b[39mraise\u001b[39;00m AioReadTimeoutError(\n\u001b[1;32m     62\u001b[0m         endpoint_url\u001b[39m=\u001b[39m\u001b[39mself\u001b[39m\u001b[39m.\u001b[39m__wrapped__\u001b[39m.\u001b[39murl, error\u001b[39m=\u001b[39me\n\u001b[1;32m     63\u001b[0m     )\n\u001b[1;32m     64\u001b[0m \u001b[39mexcept\u001b[39;00m aiohttp\u001b[39m.\u001b[39mclient_exceptions\u001b[39m.\u001b[39mClientConnectionError \u001b[39mas\u001b[39;00m e:\n",
      "\u001b[0;31mAioReadTimeoutError\u001b[0m: Read timeout on endpoint URL: \"https://sg-datasources-v2.s3.amazonaws.com/pre_filtered/compounds/molbinary.parquet/source%3Dchembl/version%3Dv29/filter%3Didentity/part-00137-02bca7fc-8a29-4fdb-8935-9f9a5594a7ac.c000.snappy.parquet\"",
      "\nThe above exception was the direct cause of the following exception:\n",
      "\u001b[0;31mFSTimeoutError\u001b[0m                            Traceback (most recent call last)",
      "\u001b[1;32m/Users/johnwelliaveetil/Documents/syntheticgestalt/jwelliav_cp_dev/notebooks/downloading_data.ipynb Cell 27\u001b[0m in \u001b[0;36m<cell line: 1>\u001b[0;34m()\u001b[0m\n\u001b[1;32m      <a href='vscode-notebook-cell:/Users/johnwelliaveetil/Documents/syntheticgestalt/jwelliav_cp_dev/notebooks/downloading_data.ipynb#X56sZmlsZQ%3D%3D?line=0'>1</a>\u001b[0m \u001b[39mfor\u001b[39;00m i,f \u001b[39min\u001b[39;00m \u001b[39menumerate\u001b[39m(c_filters):\n\u001b[1;32m      <a href='vscode-notebook-cell:/Users/johnwelliaveetil/Documents/syntheticgestalt/jwelliav_cp_dev/notebooks/downloading_data.ipynb#X56sZmlsZQ%3D%3D?line=1'>2</a>\u001b[0m     \u001b[39mprint\u001b[39m(f)\n\u001b[0;32m----> <a href='vscode-notebook-cell:/Users/johnwelliaveetil/Documents/syntheticgestalt/jwelliav_cp_dev/notebooks/downloading_data.ipynb#X56sZmlsZQ%3D%3D?line=2'>3</a>\u001b[0m     t \u001b[39m=\u001b[39m pd\u001b[39m.\u001b[39;49mread_parquet(\u001b[39mf\u001b[39;49m\u001b[39m\"\u001b[39;49m\u001b[39m{\u001b[39;49;00mROOT\u001b[39m}\u001b[39;49;00m\u001b[39m/pre_filtered/compounds/molbinary.parquet/\u001b[39;49m\u001b[39m\"\u001b[39;49m,filters\u001b[39m=\u001b[39;49mf)\n\u001b[1;32m      <a href='vscode-notebook-cell:/Users/johnwelliaveetil/Documents/syntheticgestalt/jwelliav_cp_dev/notebooks/downloading_data.ipynb#X56sZmlsZQ%3D%3D?line=3'>4</a>\u001b[0m     t\u001b[39m.\u001b[39mto_parquet(\u001b[39m'\u001b[39m\u001b[39m{}\u001b[39;00m\u001b[39m.parquet\u001b[39m\u001b[39m'\u001b[39m\u001b[39m.\u001b[39mformat(f))\n",
      "File \u001b[0;32m~/opt/miniconda3/envs/my-rdkit-env/lib/python3.10/site-packages/pandas/io/parquet.py:493\u001b[0m, in \u001b[0;36mread_parquet\u001b[0;34m(path, engine, columns, storage_options, use_nullable_dtypes, **kwargs)\u001b[0m\n\u001b[1;32m    446\u001b[0m \u001b[39m\"\"\"\u001b[39;00m\n\u001b[1;32m    447\u001b[0m \u001b[39mLoad a parquet object from the file path, returning a DataFrame.\u001b[39;00m\n\u001b[1;32m    448\u001b[0m \n\u001b[0;32m   (...)\u001b[0m\n\u001b[1;32m    489\u001b[0m \u001b[39mDataFrame\u001b[39;00m\n\u001b[1;32m    490\u001b[0m \u001b[39m\"\"\"\u001b[39;00m\n\u001b[1;32m    491\u001b[0m impl \u001b[39m=\u001b[39m get_engine(engine)\n\u001b[0;32m--> 493\u001b[0m \u001b[39mreturn\u001b[39;00m impl\u001b[39m.\u001b[39;49mread(\n\u001b[1;32m    494\u001b[0m     path,\n\u001b[1;32m    495\u001b[0m     columns\u001b[39m=\u001b[39;49mcolumns,\n\u001b[1;32m    496\u001b[0m     storage_options\u001b[39m=\u001b[39;49mstorage_options,\n\u001b[1;32m    497\u001b[0m     use_nullable_dtypes\u001b[39m=\u001b[39;49muse_nullable_dtypes,\n\u001b[1;32m    498\u001b[0m     \u001b[39m*\u001b[39;49m\u001b[39m*\u001b[39;49mkwargs,\n\u001b[1;32m    499\u001b[0m )\n",
      "File \u001b[0;32m~/opt/miniconda3/envs/my-rdkit-env/lib/python3.10/site-packages/pandas/io/parquet.py:240\u001b[0m, in \u001b[0;36mPyArrowImpl.read\u001b[0;34m(self, path, columns, use_nullable_dtypes, storage_options, **kwargs)\u001b[0m\n\u001b[1;32m    233\u001b[0m path_or_handle, handles, kwargs[\u001b[39m\"\u001b[39m\u001b[39mfilesystem\u001b[39m\u001b[39m\"\u001b[39m] \u001b[39m=\u001b[39m _get_path_or_handle(\n\u001b[1;32m    234\u001b[0m     path,\n\u001b[1;32m    235\u001b[0m     kwargs\u001b[39m.\u001b[39mpop(\u001b[39m\"\u001b[39m\u001b[39mfilesystem\u001b[39m\u001b[39m\"\u001b[39m, \u001b[39mNone\u001b[39;00m),\n\u001b[1;32m    236\u001b[0m     storage_options\u001b[39m=\u001b[39mstorage_options,\n\u001b[1;32m    237\u001b[0m     mode\u001b[39m=\u001b[39m\u001b[39m\"\u001b[39m\u001b[39mrb\u001b[39m\u001b[39m\"\u001b[39m,\n\u001b[1;32m    238\u001b[0m )\n\u001b[1;32m    239\u001b[0m \u001b[39mtry\u001b[39;00m:\n\u001b[0;32m--> 240\u001b[0m     result \u001b[39m=\u001b[39m \u001b[39mself\u001b[39;49m\u001b[39m.\u001b[39;49mapi\u001b[39m.\u001b[39;49mparquet\u001b[39m.\u001b[39;49mread_table(\n\u001b[1;32m    241\u001b[0m         path_or_handle, columns\u001b[39m=\u001b[39;49mcolumns, \u001b[39m*\u001b[39;49m\u001b[39m*\u001b[39;49mkwargs\n\u001b[1;32m    242\u001b[0m     )\u001b[39m.\u001b[39mto_pandas(\u001b[39m*\u001b[39m\u001b[39m*\u001b[39mto_pandas_kwargs)\n\u001b[1;32m    243\u001b[0m     \u001b[39mif\u001b[39;00m manager \u001b[39m==\u001b[39m \u001b[39m\"\u001b[39m\u001b[39marray\u001b[39m\u001b[39m\"\u001b[39m:\n\u001b[1;32m    244\u001b[0m         result \u001b[39m=\u001b[39m result\u001b[39m.\u001b[39m_as_manager(\u001b[39m\"\u001b[39m\u001b[39marray\u001b[39m\u001b[39m\"\u001b[39m, copy\u001b[39m=\u001b[39m\u001b[39mFalse\u001b[39;00m)\n",
      "File \u001b[0;32m~/opt/miniconda3/envs/my-rdkit-env/lib/python3.10/site-packages/pyarrow/parquet/__init__.py:2780\u001b[0m, in \u001b[0;36mread_table\u001b[0;34m(source, columns, use_threads, metadata, schema, use_pandas_metadata, memory_map, read_dictionary, filesystem, filters, buffer_size, partitioning, use_legacy_dataset, ignore_prefixes, pre_buffer, coerce_int96_timestamp_unit, decryption_properties)\u001b[0m\n\u001b[1;32m   2771\u001b[0m         \u001b[39m# TODO test that source is not a directory or a list\u001b[39;00m\n\u001b[1;32m   2772\u001b[0m         dataset \u001b[39m=\u001b[39m ParquetFile(\n\u001b[1;32m   2773\u001b[0m             source, metadata\u001b[39m=\u001b[39mmetadata, read_dictionary\u001b[39m=\u001b[39mread_dictionary,\n\u001b[1;32m   2774\u001b[0m             memory_map\u001b[39m=\u001b[39mmemory_map, buffer_size\u001b[39m=\u001b[39mbuffer_size,\n\u001b[0;32m   (...)\u001b[0m\n\u001b[1;32m   2777\u001b[0m             decryption_properties\u001b[39m=\u001b[39mdecryption_properties\n\u001b[1;32m   2778\u001b[0m         )\n\u001b[0;32m-> 2780\u001b[0m     \u001b[39mreturn\u001b[39;00m dataset\u001b[39m.\u001b[39;49mread(columns\u001b[39m=\u001b[39;49mcolumns, use_threads\u001b[39m=\u001b[39;49muse_threads,\n\u001b[1;32m   2781\u001b[0m                         use_pandas_metadata\u001b[39m=\u001b[39;49muse_pandas_metadata)\n\u001b[1;32m   2783\u001b[0m warnings\u001b[39m.\u001b[39mwarn(\n\u001b[1;32m   2784\u001b[0m     \u001b[39m\"\u001b[39m\u001b[39mPassing \u001b[39m\u001b[39m'\u001b[39m\u001b[39muse_legacy_dataset=True\u001b[39m\u001b[39m'\u001b[39m\u001b[39m to get the legacy behaviour is \u001b[39m\u001b[39m\"\u001b[39m\n\u001b[1;32m   2785\u001b[0m     \u001b[39m\"\u001b[39m\u001b[39mdeprecated as of pyarrow 8.0.0, and the legacy implementation will \u001b[39m\u001b[39m\"\u001b[39m\n\u001b[1;32m   2786\u001b[0m     \u001b[39m\"\u001b[39m\u001b[39mbe removed in a future version.\u001b[39m\u001b[39m\"\u001b[39m,\n\u001b[1;32m   2787\u001b[0m     \u001b[39mFutureWarning\u001b[39;00m, stacklevel\u001b[39m=\u001b[39m\u001b[39m2\u001b[39m)\n\u001b[1;32m   2789\u001b[0m \u001b[39mif\u001b[39;00m ignore_prefixes \u001b[39mis\u001b[39;00m \u001b[39mnot\u001b[39;00m \u001b[39mNone\u001b[39;00m:\n",
      "File \u001b[0;32m~/opt/miniconda3/envs/my-rdkit-env/lib/python3.10/site-packages/pyarrow/parquet/__init__.py:2443\u001b[0m, in \u001b[0;36m_ParquetDatasetV2.read\u001b[0;34m(self, columns, use_threads, use_pandas_metadata)\u001b[0m\n\u001b[1;32m   2435\u001b[0m         index_columns \u001b[39m=\u001b[39m [\n\u001b[1;32m   2436\u001b[0m             col \u001b[39mfor\u001b[39;00m col \u001b[39min\u001b[39;00m _get_pandas_index_columns(metadata)\n\u001b[1;32m   2437\u001b[0m             \u001b[39mif\u001b[39;00m \u001b[39mnot\u001b[39;00m \u001b[39misinstance\u001b[39m(col, \u001b[39mdict\u001b[39m)\n\u001b[1;32m   2438\u001b[0m         ]\n\u001b[1;32m   2439\u001b[0m         columns \u001b[39m=\u001b[39m (\n\u001b[1;32m   2440\u001b[0m             \u001b[39mlist\u001b[39m(columns) \u001b[39m+\u001b[39m \u001b[39mlist\u001b[39m(\u001b[39mset\u001b[39m(index_columns) \u001b[39m-\u001b[39m \u001b[39mset\u001b[39m(columns))\n\u001b[1;32m   2441\u001b[0m         )\n\u001b[0;32m-> 2443\u001b[0m table \u001b[39m=\u001b[39m \u001b[39mself\u001b[39;49m\u001b[39m.\u001b[39;49m_dataset\u001b[39m.\u001b[39;49mto_table(\n\u001b[1;32m   2444\u001b[0m     columns\u001b[39m=\u001b[39;49mcolumns, \u001b[39mfilter\u001b[39;49m\u001b[39m=\u001b[39;49m\u001b[39mself\u001b[39;49m\u001b[39m.\u001b[39;49m_filter_expression,\n\u001b[1;32m   2445\u001b[0m     use_threads\u001b[39m=\u001b[39;49muse_threads\n\u001b[1;32m   2446\u001b[0m )\n\u001b[1;32m   2448\u001b[0m \u001b[39m# if use_pandas_metadata, restore the pandas metadata (which gets\u001b[39;00m\n\u001b[1;32m   2449\u001b[0m \u001b[39m# lost if doing a specific `columns` selection in to_table)\u001b[39;00m\n\u001b[1;32m   2450\u001b[0m \u001b[39mif\u001b[39;00m use_pandas_metadata:\n",
      "File \u001b[0;32m~/opt/miniconda3/envs/my-rdkit-env/lib/python3.10/site-packages/pyarrow/_dataset.pyx:304\u001b[0m, in \u001b[0;36mpyarrow._dataset.Dataset.to_table\u001b[0;34m()\u001b[0m\n",
      "File \u001b[0;32m~/opt/miniconda3/envs/my-rdkit-env/lib/python3.10/site-packages/pyarrow/_dataset.pyx:2549\u001b[0m, in \u001b[0;36mpyarrow._dataset.Scanner.to_table\u001b[0;34m()\u001b[0m\n",
      "File \u001b[0;32m~/opt/miniconda3/envs/my-rdkit-env/lib/python3.10/site-packages/pyarrow/error.pxi:144\u001b[0m, in \u001b[0;36mpyarrow.lib.pyarrow_internal_check_status\u001b[0;34m()\u001b[0m\n",
      "File \u001b[0;32m~/opt/miniconda3/envs/my-rdkit-env/lib/python3.10/site-packages/fsspec/spec.py:1655\u001b[0m, in \u001b[0;36mAbstractBufferedFile.read\u001b[0;34m(self, length)\u001b[0m\n\u001b[1;32m   1652\u001b[0m \u001b[39mif\u001b[39;00m length \u001b[39m==\u001b[39m \u001b[39m0\u001b[39m:\n\u001b[1;32m   1653\u001b[0m     \u001b[39m# don't even bother calling fetch\u001b[39;00m\n\u001b[1;32m   1654\u001b[0m     \u001b[39mreturn\u001b[39;00m \u001b[39mb\u001b[39m\u001b[39m\"\u001b[39m\u001b[39m\"\u001b[39m\n\u001b[0;32m-> 1655\u001b[0m out \u001b[39m=\u001b[39m \u001b[39mself\u001b[39;49m\u001b[39m.\u001b[39;49mcache\u001b[39m.\u001b[39;49m_fetch(\u001b[39mself\u001b[39;49m\u001b[39m.\u001b[39;49mloc, \u001b[39mself\u001b[39;49m\u001b[39m.\u001b[39;49mloc \u001b[39m+\u001b[39;49m length)\n\u001b[1;32m   1656\u001b[0m \u001b[39mself\u001b[39m\u001b[39m.\u001b[39mloc \u001b[39m+\u001b[39m\u001b[39m=\u001b[39m \u001b[39mlen\u001b[39m(out)\n\u001b[1;32m   1657\u001b[0m \u001b[39mreturn\u001b[39;00m out\n",
      "File \u001b[0;32m~/opt/miniconda3/envs/my-rdkit-env/lib/python3.10/site-packages/fsspec/caching.py:384\u001b[0m, in \u001b[0;36mBytesCache._fetch\u001b[0;34m(self, start, end)\u001b[0m\n\u001b[1;32m    382\u001b[0m     \u001b[39mself\u001b[39m\u001b[39m.\u001b[39mstart \u001b[39m=\u001b[39m start\n\u001b[1;32m    383\u001b[0m \u001b[39melse\u001b[39;00m:\n\u001b[0;32m--> 384\u001b[0m     new \u001b[39m=\u001b[39m \u001b[39mself\u001b[39;49m\u001b[39m.\u001b[39;49mfetcher(start, \u001b[39mself\u001b[39;49m\u001b[39m.\u001b[39;49mstart)\n\u001b[1;32m    385\u001b[0m     \u001b[39mself\u001b[39m\u001b[39m.\u001b[39mstart \u001b[39m=\u001b[39m start\n\u001b[1;32m    386\u001b[0m     \u001b[39mself\u001b[39m\u001b[39m.\u001b[39mcache \u001b[39m=\u001b[39m new \u001b[39m+\u001b[39m \u001b[39mself\u001b[39m\u001b[39m.\u001b[39mcache\n",
      "File \u001b[0;32m~/opt/miniconda3/envs/my-rdkit-env/lib/python3.10/site-packages/s3fs/core.py:2108\u001b[0m, in \u001b[0;36mS3File._fetch_range\u001b[0;34m(self, start, end)\u001b[0m\n\u001b[1;32m   2106\u001b[0m \u001b[39mdef\u001b[39;00m \u001b[39m_fetch_range\u001b[39m(\u001b[39mself\u001b[39m, start, end):\n\u001b[1;32m   2107\u001b[0m     \u001b[39mtry\u001b[39;00m:\n\u001b[0;32m-> 2108\u001b[0m         \u001b[39mreturn\u001b[39;00m _fetch_range(\n\u001b[1;32m   2109\u001b[0m             \u001b[39mself\u001b[39;49m\u001b[39m.\u001b[39;49mfs,\n\u001b[1;32m   2110\u001b[0m             \u001b[39mself\u001b[39;49m\u001b[39m.\u001b[39;49mbucket,\n\u001b[1;32m   2111\u001b[0m             \u001b[39mself\u001b[39;49m\u001b[39m.\u001b[39;49mkey,\n\u001b[1;32m   2112\u001b[0m             \u001b[39mself\u001b[39;49m\u001b[39m.\u001b[39;49mversion_id,\n\u001b[1;32m   2113\u001b[0m             start,\n\u001b[1;32m   2114\u001b[0m             end,\n\u001b[1;32m   2115\u001b[0m             req_kw\u001b[39m=\u001b[39;49m\u001b[39mself\u001b[39;49m\u001b[39m.\u001b[39;49mreq_kw,\n\u001b[1;32m   2116\u001b[0m         )\n\u001b[1;32m   2118\u001b[0m     \u001b[39mexcept\u001b[39;00m \u001b[39mOSError\u001b[39;00m \u001b[39mas\u001b[39;00m ex:\n\u001b[1;32m   2119\u001b[0m         \u001b[39mif\u001b[39;00m ex\u001b[39m.\u001b[39margs[\u001b[39m0\u001b[39m] \u001b[39m==\u001b[39m errno\u001b[39m.\u001b[39mEINVAL \u001b[39mand\u001b[39;00m \u001b[39m\"\u001b[39m\u001b[39mpre-conditions\u001b[39m\u001b[39m\"\u001b[39m \u001b[39min\u001b[39;00m ex\u001b[39m.\u001b[39margs[\u001b[39m1\u001b[39m]:\n",
      "File \u001b[0;32m~/opt/miniconda3/envs/my-rdkit-env/lib/python3.10/site-packages/s3fs/core.py:2251\u001b[0m, in \u001b[0;36m_fetch_range\u001b[0;34m(fs, bucket, key, version_id, start, end, req_kw)\u001b[0m\n\u001b[1;32m   2249\u001b[0m     \u001b[39mreturn\u001b[39;00m \u001b[39mb\u001b[39m\u001b[39m\"\u001b[39m\u001b[39m\"\u001b[39m\n\u001b[1;32m   2250\u001b[0m logger\u001b[39m.\u001b[39mdebug(\u001b[39m\"\u001b[39m\u001b[39mFetch: \u001b[39m\u001b[39m%s\u001b[39;00m\u001b[39m/\u001b[39m\u001b[39m%s\u001b[39;00m\u001b[39m, \u001b[39m\u001b[39m%s\u001b[39;00m\u001b[39m-\u001b[39m\u001b[39m%s\u001b[39;00m\u001b[39m\"\u001b[39m, bucket, key, start, end)\n\u001b[0;32m-> 2251\u001b[0m \u001b[39mreturn\u001b[39;00m sync(fs\u001b[39m.\u001b[39;49mloop, _inner_fetch, fs, bucket, key, version_id, start, end, req_kw)\n",
      "File \u001b[0;32m~/opt/miniconda3/envs/my-rdkit-env/lib/python3.10/site-packages/fsspec/asyn.py:96\u001b[0m, in \u001b[0;36msync\u001b[0;34m(loop, func, timeout, *args, **kwargs)\u001b[0m\n\u001b[1;32m     93\u001b[0m return_result \u001b[39m=\u001b[39m result[\u001b[39m0\u001b[39m]\n\u001b[1;32m     94\u001b[0m \u001b[39mif\u001b[39;00m \u001b[39misinstance\u001b[39m(return_result, asyncio\u001b[39m.\u001b[39mTimeoutError):\n\u001b[1;32m     95\u001b[0m     \u001b[39m# suppress asyncio.TimeoutError, raise FSTimeoutError\u001b[39;00m\n\u001b[0;32m---> 96\u001b[0m     \u001b[39mraise\u001b[39;00m FSTimeoutError \u001b[39mfrom\u001b[39;00m \u001b[39mreturn_result\u001b[39;00m\n\u001b[1;32m     97\u001b[0m \u001b[39melif\u001b[39;00m \u001b[39misinstance\u001b[39m(return_result, \u001b[39mBaseException\u001b[39;00m):\n\u001b[1;32m     98\u001b[0m     \u001b[39mraise\u001b[39;00m return_result\n",
      "\u001b[0;31mFSTimeoutError\u001b[0m: "
     ]
    }
   ],
   "source": [
    "for i,f in enumerate(c_filters):\n",
    "    print(f)\n",
    "    t = pd.read_parquet(f\"{ROOT}/pre_filtered/compounds/molbinary.parquet/\",filters=f)\n",
    "    t.to_parquet('{}.parquet'.format(f))"
   ]
  },
  {
   "cell_type": "code",
   "execution_count": null,
   "metadata": {},
   "outputs": [],
   "source": []
  },
  {
   "cell_type": "code",
   "execution_count": null,
   "metadata": {},
   "outputs": [],
   "source": []
  },
  {
   "cell_type": "code",
   "execution_count": 83,
   "metadata": {},
   "outputs": [
    {
     "ename": "FSTimeoutError",
     "evalue": "",
     "output_type": "error",
     "traceback": [
      "\u001b[0;31m---------------------------------------------------------------------------\u001b[0m",
      "\u001b[0;31mServerTimeoutError\u001b[0m                        Traceback (most recent call last)",
      "File \u001b[0;32m~/opt/miniconda3/envs/my-rdkit-env/lib/python3.10/site-packages/aiobotocore/response.py:57\u001b[0m, in \u001b[0;36mStreamingBody.read\u001b[0;34m(self, amt)\u001b[0m\n\u001b[1;32m     56\u001b[0m \u001b[39mtry\u001b[39;00m:\n\u001b[0;32m---> 57\u001b[0m     chunk \u001b[39m=\u001b[39m \u001b[39mawait\u001b[39;00m \u001b[39mself\u001b[39m\u001b[39m.\u001b[39m__wrapped__\u001b[39m.\u001b[39mcontent\u001b[39m.\u001b[39mread(\n\u001b[1;32m     58\u001b[0m         amt \u001b[39mif\u001b[39;00m amt \u001b[39mis\u001b[39;00m \u001b[39mnot\u001b[39;00m \u001b[39mNone\u001b[39;00m \u001b[39melse\u001b[39;00m \u001b[39m-\u001b[39m\u001b[39m1\u001b[39m\n\u001b[1;32m     59\u001b[0m     )\n\u001b[1;32m     60\u001b[0m \u001b[39mexcept\u001b[39;00m asyncio\u001b[39m.\u001b[39mTimeoutError \u001b[39mas\u001b[39;00m e:\n",
      "File \u001b[0;32m~/opt/miniconda3/envs/my-rdkit-env/lib/python3.10/site-packages/aiohttp/streams.py:375\u001b[0m, in \u001b[0;36mStreamReader.read\u001b[0;34m(self, n)\u001b[0m\n\u001b[1;32m    374\u001b[0m \u001b[39mwhile\u001b[39;00m \u001b[39mTrue\u001b[39;00m:\n\u001b[0;32m--> 375\u001b[0m     block \u001b[39m=\u001b[39m \u001b[39mawait\u001b[39;00m \u001b[39mself\u001b[39m\u001b[39m.\u001b[39mreadany()\n\u001b[1;32m    376\u001b[0m     \u001b[39mif\u001b[39;00m \u001b[39mnot\u001b[39;00m block:\n",
      "File \u001b[0;32m~/opt/miniconda3/envs/my-rdkit-env/lib/python3.10/site-packages/aiohttp/streams.py:397\u001b[0m, in \u001b[0;36mStreamReader.readany\u001b[0;34m(self)\u001b[0m\n\u001b[1;32m    396\u001b[0m \u001b[39mwhile\u001b[39;00m \u001b[39mnot\u001b[39;00m \u001b[39mself\u001b[39m\u001b[39m.\u001b[39m_buffer \u001b[39mand\u001b[39;00m \u001b[39mnot\u001b[39;00m \u001b[39mself\u001b[39m\u001b[39m.\u001b[39m_eof:\n\u001b[0;32m--> 397\u001b[0m     \u001b[39mawait\u001b[39;00m \u001b[39mself\u001b[39m\u001b[39m.\u001b[39m_wait(\u001b[39m\"\u001b[39m\u001b[39mreadany\u001b[39m\u001b[39m\"\u001b[39m)\n\u001b[1;32m    399\u001b[0m \u001b[39mreturn\u001b[39;00m \u001b[39mself\u001b[39m\u001b[39m.\u001b[39m_read_nowait(\u001b[39m-\u001b[39m\u001b[39m1\u001b[39m)\n",
      "File \u001b[0;32m~/opt/miniconda3/envs/my-rdkit-env/lib/python3.10/site-packages/aiohttp/streams.py:304\u001b[0m, in \u001b[0;36mStreamReader._wait\u001b[0;34m(self, func_name)\u001b[0m\n\u001b[1;32m    303\u001b[0m     \u001b[39mwith\u001b[39;00m \u001b[39mself\u001b[39m\u001b[39m.\u001b[39m_timer:\n\u001b[0;32m--> 304\u001b[0m         \u001b[39mawait\u001b[39;00m waiter\n\u001b[1;32m    305\u001b[0m \u001b[39melse\u001b[39;00m:\n",
      "\u001b[0;31mServerTimeoutError\u001b[0m: Timeout on reading data from socket",
      "\nDuring handling of the above exception, another exception occurred:\n",
      "\u001b[0;31mAioReadTimeoutError\u001b[0m                       Traceback (most recent call last)",
      "File \u001b[0;32m~/opt/miniconda3/envs/my-rdkit-env/lib/python3.10/site-packages/fsspec/asyn.py:53\u001b[0m, in \u001b[0;36m_runner\u001b[0;34m(event, coro, result, timeout)\u001b[0m\n\u001b[1;32m     52\u001b[0m \u001b[39mtry\u001b[39;00m:\n\u001b[0;32m---> 53\u001b[0m     result[\u001b[39m0\u001b[39m] \u001b[39m=\u001b[39m \u001b[39mawait\u001b[39;00m coro\n\u001b[1;32m     54\u001b[0m \u001b[39mexcept\u001b[39;00m \u001b[39mException\u001b[39;00m \u001b[39mas\u001b[39;00m ex:\n",
      "File \u001b[0;32m~/opt/miniconda3/envs/my-rdkit-env/lib/python3.10/site-packages/s3fs/core.py:2263\u001b[0m, in \u001b[0;36m_inner_fetch\u001b[0;34m(fs, bucket, key, version_id, start, end, req_kw)\u001b[0m\n\u001b[1;32m   2255\u001b[0m resp \u001b[39m=\u001b[39m \u001b[39mawait\u001b[39;00m fs\u001b[39m.\u001b[39m_call_s3(\n\u001b[1;32m   2256\u001b[0m     \u001b[39m\"\u001b[39m\u001b[39mget_object\u001b[39m\u001b[39m\"\u001b[39m,\n\u001b[1;32m   2257\u001b[0m     Bucket\u001b[39m=\u001b[39mbucket,\n\u001b[0;32m   (...)\u001b[0m\n\u001b[1;32m   2261\u001b[0m     \u001b[39m*\u001b[39m\u001b[39m*\u001b[39mreq_kw,\n\u001b[1;32m   2262\u001b[0m )\n\u001b[0;32m-> 2263\u001b[0m \u001b[39mreturn\u001b[39;00m \u001b[39mawait\u001b[39;00m resp[\u001b[39m\"\u001b[39m\u001b[39mBody\u001b[39m\u001b[39m\"\u001b[39m]\u001b[39m.\u001b[39mread()\n",
      "File \u001b[0;32m~/opt/miniconda3/envs/my-rdkit-env/lib/python3.10/site-packages/aiobotocore/response.py:61\u001b[0m, in \u001b[0;36mStreamingBody.read\u001b[0;34m(self, amt)\u001b[0m\n\u001b[1;32m     60\u001b[0m \u001b[39mexcept\u001b[39;00m asyncio\u001b[39m.\u001b[39mTimeoutError \u001b[39mas\u001b[39;00m e:\n\u001b[0;32m---> 61\u001b[0m     \u001b[39mraise\u001b[39;00m AioReadTimeoutError(\n\u001b[1;32m     62\u001b[0m         endpoint_url\u001b[39m=\u001b[39m\u001b[39mself\u001b[39m\u001b[39m.\u001b[39m__wrapped__\u001b[39m.\u001b[39murl, error\u001b[39m=\u001b[39me\n\u001b[1;32m     63\u001b[0m     )\n\u001b[1;32m     64\u001b[0m \u001b[39mexcept\u001b[39;00m aiohttp\u001b[39m.\u001b[39mclient_exceptions\u001b[39m.\u001b[39mClientConnectionError \u001b[39mas\u001b[39;00m e:\n",
      "\u001b[0;31mAioReadTimeoutError\u001b[0m: Read timeout on endpoint URL: \"https://sg-datasources-v2.s3.amazonaws.com/pre_filtered/compounds/molbinary.parquet/source%3Dchembl/version%3Dv29/filter%3Didentity/part-00111-02bca7fc-8a29-4fdb-8935-9f9a5594a7ac.c000.snappy.parquet\"",
      "\nThe above exception was the direct cause of the following exception:\n",
      "\u001b[0;31mFSTimeoutError\u001b[0m                            Traceback (most recent call last)",
      "\u001b[1;32m/Users/johnwelliaveetil/Documents/syntheticgestalt/jwelliav_cp_dev/notebooks/downloading_data.ipynb Cell 25\u001b[0m in \u001b[0;36m<cell line: 3>\u001b[0;34m()\u001b[0m\n\u001b[1;32m      <a href='vscode-notebook-cell:/Users/johnwelliaveetil/Documents/syntheticgestalt/jwelliav_cp_dev/notebooks/downloading_data.ipynb#X50sZmlsZQ%3D%3D?line=0'>1</a>\u001b[0m c_filters \u001b[39m=\u001b[39m [[(\u001b[39m\"\u001b[39m\u001b[39msource\u001b[39m\u001b[39m\"\u001b[39m, \u001b[39m\"\u001b[39m\u001b[39m=\u001b[39m\u001b[39m\"\u001b[39m, s), (\u001b[39m\"\u001b[39m\u001b[39mversion\u001b[39m\u001b[39m\"\u001b[39m, \u001b[39m\"\u001b[39m\u001b[39m=\u001b[39m\u001b[39m\"\u001b[39m, v)] \u001b[39mfor\u001b[39;00m s, v \u001b[39min\u001b[39;00m versions\u001b[39m.\u001b[39mitems()]\n\u001b[0;32m----> <a href='vscode-notebook-cell:/Users/johnwelliaveetil/Documents/syntheticgestalt/jwelliav_cp_dev/notebooks/downloading_data.ipynb#X50sZmlsZQ%3D%3D?line=2'>3</a>\u001b[0m c_df \u001b[39m=\u001b[39m pd\u001b[39m.\u001b[39mconcat([pd\u001b[39m.\u001b[39mread_parquet(\n\u001b[1;32m      <a href='vscode-notebook-cell:/Users/johnwelliaveetil/Documents/syntheticgestalt/jwelliav_cp_dev/notebooks/downloading_data.ipynb#X50sZmlsZQ%3D%3D?line=3'>4</a>\u001b[0m         \u001b[39mf\u001b[39m\u001b[39m\"\u001b[39m\u001b[39m{\u001b[39;00mROOT\u001b[39m}\u001b[39;00m\u001b[39m/pre_filtered/compounds/molbinary.parquet/\u001b[39m\u001b[39m\"\u001b[39m,\n\u001b[1;32m      <a href='vscode-notebook-cell:/Users/johnwelliaveetil/Documents/syntheticgestalt/jwelliav_cp_dev/notebooks/downloading_data.ipynb#X50sZmlsZQ%3D%3D?line=4'>5</a>\u001b[0m         filters\u001b[39m=\u001b[39mfilters) \u001b[39mfor\u001b[39;00m filters \u001b[39min\u001b[39;00m c_filters])\n",
      "\u001b[1;32m/Users/johnwelliaveetil/Documents/syntheticgestalt/jwelliav_cp_dev/notebooks/downloading_data.ipynb Cell 25\u001b[0m in \u001b[0;36m<listcomp>\u001b[0;34m(.0)\u001b[0m\n\u001b[1;32m      <a href='vscode-notebook-cell:/Users/johnwelliaveetil/Documents/syntheticgestalt/jwelliav_cp_dev/notebooks/downloading_data.ipynb#X50sZmlsZQ%3D%3D?line=0'>1</a>\u001b[0m c_filters \u001b[39m=\u001b[39m [[(\u001b[39m\"\u001b[39m\u001b[39msource\u001b[39m\u001b[39m\"\u001b[39m, \u001b[39m\"\u001b[39m\u001b[39m=\u001b[39m\u001b[39m\"\u001b[39m, s), (\u001b[39m\"\u001b[39m\u001b[39mversion\u001b[39m\u001b[39m\"\u001b[39m, \u001b[39m\"\u001b[39m\u001b[39m=\u001b[39m\u001b[39m\"\u001b[39m, v)] \u001b[39mfor\u001b[39;00m s, v \u001b[39min\u001b[39;00m versions\u001b[39m.\u001b[39mitems()]\n\u001b[0;32m----> <a href='vscode-notebook-cell:/Users/johnwelliaveetil/Documents/syntheticgestalt/jwelliav_cp_dev/notebooks/downloading_data.ipynb#X50sZmlsZQ%3D%3D?line=2'>3</a>\u001b[0m c_df \u001b[39m=\u001b[39m pd\u001b[39m.\u001b[39mconcat([pd\u001b[39m.\u001b[39;49mread_parquet(\n\u001b[1;32m      <a href='vscode-notebook-cell:/Users/johnwelliaveetil/Documents/syntheticgestalt/jwelliav_cp_dev/notebooks/downloading_data.ipynb#X50sZmlsZQ%3D%3D?line=3'>4</a>\u001b[0m         \u001b[39mf\u001b[39;49m\u001b[39m\"\u001b[39;49m\u001b[39m{\u001b[39;49;00mROOT\u001b[39m}\u001b[39;49;00m\u001b[39m/pre_filtered/compounds/molbinary.parquet/\u001b[39;49m\u001b[39m\"\u001b[39;49m,\n\u001b[1;32m      <a href='vscode-notebook-cell:/Users/johnwelliaveetil/Documents/syntheticgestalt/jwelliav_cp_dev/notebooks/downloading_data.ipynb#X50sZmlsZQ%3D%3D?line=4'>5</a>\u001b[0m         filters\u001b[39m=\u001b[39;49mfilters) \u001b[39mfor\u001b[39;00m filters \u001b[39min\u001b[39;00m c_filters])\n",
      "File \u001b[0;32m~/opt/miniconda3/envs/my-rdkit-env/lib/python3.10/site-packages/pandas/io/parquet.py:493\u001b[0m, in \u001b[0;36mread_parquet\u001b[0;34m(path, engine, columns, storage_options, use_nullable_dtypes, **kwargs)\u001b[0m\n\u001b[1;32m    446\u001b[0m \u001b[39m\"\"\"\u001b[39;00m\n\u001b[1;32m    447\u001b[0m \u001b[39mLoad a parquet object from the file path, returning a DataFrame.\u001b[39;00m\n\u001b[1;32m    448\u001b[0m \n\u001b[0;32m   (...)\u001b[0m\n\u001b[1;32m    489\u001b[0m \u001b[39mDataFrame\u001b[39;00m\n\u001b[1;32m    490\u001b[0m \u001b[39m\"\"\"\u001b[39;00m\n\u001b[1;32m    491\u001b[0m impl \u001b[39m=\u001b[39m get_engine(engine)\n\u001b[0;32m--> 493\u001b[0m \u001b[39mreturn\u001b[39;00m impl\u001b[39m.\u001b[39;49mread(\n\u001b[1;32m    494\u001b[0m     path,\n\u001b[1;32m    495\u001b[0m     columns\u001b[39m=\u001b[39;49mcolumns,\n\u001b[1;32m    496\u001b[0m     storage_options\u001b[39m=\u001b[39;49mstorage_options,\n\u001b[1;32m    497\u001b[0m     use_nullable_dtypes\u001b[39m=\u001b[39;49muse_nullable_dtypes,\n\u001b[1;32m    498\u001b[0m     \u001b[39m*\u001b[39;49m\u001b[39m*\u001b[39;49mkwargs,\n\u001b[1;32m    499\u001b[0m )\n",
      "File \u001b[0;32m~/opt/miniconda3/envs/my-rdkit-env/lib/python3.10/site-packages/pandas/io/parquet.py:240\u001b[0m, in \u001b[0;36mPyArrowImpl.read\u001b[0;34m(self, path, columns, use_nullable_dtypes, storage_options, **kwargs)\u001b[0m\n\u001b[1;32m    233\u001b[0m path_or_handle, handles, kwargs[\u001b[39m\"\u001b[39m\u001b[39mfilesystem\u001b[39m\u001b[39m\"\u001b[39m] \u001b[39m=\u001b[39m _get_path_or_handle(\n\u001b[1;32m    234\u001b[0m     path,\n\u001b[1;32m    235\u001b[0m     kwargs\u001b[39m.\u001b[39mpop(\u001b[39m\"\u001b[39m\u001b[39mfilesystem\u001b[39m\u001b[39m\"\u001b[39m, \u001b[39mNone\u001b[39;00m),\n\u001b[1;32m    236\u001b[0m     storage_options\u001b[39m=\u001b[39mstorage_options,\n\u001b[1;32m    237\u001b[0m     mode\u001b[39m=\u001b[39m\u001b[39m\"\u001b[39m\u001b[39mrb\u001b[39m\u001b[39m\"\u001b[39m,\n\u001b[1;32m    238\u001b[0m )\n\u001b[1;32m    239\u001b[0m \u001b[39mtry\u001b[39;00m:\n\u001b[0;32m--> 240\u001b[0m     result \u001b[39m=\u001b[39m \u001b[39mself\u001b[39;49m\u001b[39m.\u001b[39;49mapi\u001b[39m.\u001b[39;49mparquet\u001b[39m.\u001b[39;49mread_table(\n\u001b[1;32m    241\u001b[0m         path_or_handle, columns\u001b[39m=\u001b[39;49mcolumns, \u001b[39m*\u001b[39;49m\u001b[39m*\u001b[39;49mkwargs\n\u001b[1;32m    242\u001b[0m     )\u001b[39m.\u001b[39mto_pandas(\u001b[39m*\u001b[39m\u001b[39m*\u001b[39mto_pandas_kwargs)\n\u001b[1;32m    243\u001b[0m     \u001b[39mif\u001b[39;00m manager \u001b[39m==\u001b[39m \u001b[39m\"\u001b[39m\u001b[39marray\u001b[39m\u001b[39m\"\u001b[39m:\n\u001b[1;32m    244\u001b[0m         result \u001b[39m=\u001b[39m result\u001b[39m.\u001b[39m_as_manager(\u001b[39m\"\u001b[39m\u001b[39marray\u001b[39m\u001b[39m\"\u001b[39m, copy\u001b[39m=\u001b[39m\u001b[39mFalse\u001b[39;00m)\n",
      "File \u001b[0;32m~/opt/miniconda3/envs/my-rdkit-env/lib/python3.10/site-packages/pyarrow/parquet/__init__.py:2780\u001b[0m, in \u001b[0;36mread_table\u001b[0;34m(source, columns, use_threads, metadata, schema, use_pandas_metadata, memory_map, read_dictionary, filesystem, filters, buffer_size, partitioning, use_legacy_dataset, ignore_prefixes, pre_buffer, coerce_int96_timestamp_unit, decryption_properties)\u001b[0m\n\u001b[1;32m   2771\u001b[0m         \u001b[39m# TODO test that source is not a directory or a list\u001b[39;00m\n\u001b[1;32m   2772\u001b[0m         dataset \u001b[39m=\u001b[39m ParquetFile(\n\u001b[1;32m   2773\u001b[0m             source, metadata\u001b[39m=\u001b[39mmetadata, read_dictionary\u001b[39m=\u001b[39mread_dictionary,\n\u001b[1;32m   2774\u001b[0m             memory_map\u001b[39m=\u001b[39mmemory_map, buffer_size\u001b[39m=\u001b[39mbuffer_size,\n\u001b[0;32m   (...)\u001b[0m\n\u001b[1;32m   2777\u001b[0m             decryption_properties\u001b[39m=\u001b[39mdecryption_properties\n\u001b[1;32m   2778\u001b[0m         )\n\u001b[0;32m-> 2780\u001b[0m     \u001b[39mreturn\u001b[39;00m dataset\u001b[39m.\u001b[39;49mread(columns\u001b[39m=\u001b[39;49mcolumns, use_threads\u001b[39m=\u001b[39;49muse_threads,\n\u001b[1;32m   2781\u001b[0m                         use_pandas_metadata\u001b[39m=\u001b[39;49muse_pandas_metadata)\n\u001b[1;32m   2783\u001b[0m warnings\u001b[39m.\u001b[39mwarn(\n\u001b[1;32m   2784\u001b[0m     \u001b[39m\"\u001b[39m\u001b[39mPassing \u001b[39m\u001b[39m'\u001b[39m\u001b[39muse_legacy_dataset=True\u001b[39m\u001b[39m'\u001b[39m\u001b[39m to get the legacy behaviour is \u001b[39m\u001b[39m\"\u001b[39m\n\u001b[1;32m   2785\u001b[0m     \u001b[39m\"\u001b[39m\u001b[39mdeprecated as of pyarrow 8.0.0, and the legacy implementation will \u001b[39m\u001b[39m\"\u001b[39m\n\u001b[1;32m   2786\u001b[0m     \u001b[39m\"\u001b[39m\u001b[39mbe removed in a future version.\u001b[39m\u001b[39m\"\u001b[39m,\n\u001b[1;32m   2787\u001b[0m     \u001b[39mFutureWarning\u001b[39;00m, stacklevel\u001b[39m=\u001b[39m\u001b[39m2\u001b[39m)\n\u001b[1;32m   2789\u001b[0m \u001b[39mif\u001b[39;00m ignore_prefixes \u001b[39mis\u001b[39;00m \u001b[39mnot\u001b[39;00m \u001b[39mNone\u001b[39;00m:\n",
      "File \u001b[0;32m~/opt/miniconda3/envs/my-rdkit-env/lib/python3.10/site-packages/pyarrow/parquet/__init__.py:2443\u001b[0m, in \u001b[0;36m_ParquetDatasetV2.read\u001b[0;34m(self, columns, use_threads, use_pandas_metadata)\u001b[0m\n\u001b[1;32m   2435\u001b[0m         index_columns \u001b[39m=\u001b[39m [\n\u001b[1;32m   2436\u001b[0m             col \u001b[39mfor\u001b[39;00m col \u001b[39min\u001b[39;00m _get_pandas_index_columns(metadata)\n\u001b[1;32m   2437\u001b[0m             \u001b[39mif\u001b[39;00m \u001b[39mnot\u001b[39;00m \u001b[39misinstance\u001b[39m(col, \u001b[39mdict\u001b[39m)\n\u001b[1;32m   2438\u001b[0m         ]\n\u001b[1;32m   2439\u001b[0m         columns \u001b[39m=\u001b[39m (\n\u001b[1;32m   2440\u001b[0m             \u001b[39mlist\u001b[39m(columns) \u001b[39m+\u001b[39m \u001b[39mlist\u001b[39m(\u001b[39mset\u001b[39m(index_columns) \u001b[39m-\u001b[39m \u001b[39mset\u001b[39m(columns))\n\u001b[1;32m   2441\u001b[0m         )\n\u001b[0;32m-> 2443\u001b[0m table \u001b[39m=\u001b[39m \u001b[39mself\u001b[39;49m\u001b[39m.\u001b[39;49m_dataset\u001b[39m.\u001b[39;49mto_table(\n\u001b[1;32m   2444\u001b[0m     columns\u001b[39m=\u001b[39;49mcolumns, \u001b[39mfilter\u001b[39;49m\u001b[39m=\u001b[39;49m\u001b[39mself\u001b[39;49m\u001b[39m.\u001b[39;49m_filter_expression,\n\u001b[1;32m   2445\u001b[0m     use_threads\u001b[39m=\u001b[39;49muse_threads\n\u001b[1;32m   2446\u001b[0m )\n\u001b[1;32m   2448\u001b[0m \u001b[39m# if use_pandas_metadata, restore the pandas metadata (which gets\u001b[39;00m\n\u001b[1;32m   2449\u001b[0m \u001b[39m# lost if doing a specific `columns` selection in to_table)\u001b[39;00m\n\u001b[1;32m   2450\u001b[0m \u001b[39mif\u001b[39;00m use_pandas_metadata:\n",
      "File \u001b[0;32m~/opt/miniconda3/envs/my-rdkit-env/lib/python3.10/site-packages/pyarrow/_dataset.pyx:304\u001b[0m, in \u001b[0;36mpyarrow._dataset.Dataset.to_table\u001b[0;34m()\u001b[0m\n",
      "File \u001b[0;32m~/opt/miniconda3/envs/my-rdkit-env/lib/python3.10/site-packages/pyarrow/_dataset.pyx:2549\u001b[0m, in \u001b[0;36mpyarrow._dataset.Scanner.to_table\u001b[0;34m()\u001b[0m\n",
      "File \u001b[0;32m~/opt/miniconda3/envs/my-rdkit-env/lib/python3.10/site-packages/pyarrow/error.pxi:144\u001b[0m, in \u001b[0;36mpyarrow.lib.pyarrow_internal_check_status\u001b[0;34m()\u001b[0m\n",
      "File \u001b[0;32m~/opt/miniconda3/envs/my-rdkit-env/lib/python3.10/site-packages/fsspec/spec.py:1655\u001b[0m, in \u001b[0;36mAbstractBufferedFile.read\u001b[0;34m(self, length)\u001b[0m\n\u001b[1;32m   1652\u001b[0m \u001b[39mif\u001b[39;00m length \u001b[39m==\u001b[39m \u001b[39m0\u001b[39m:\n\u001b[1;32m   1653\u001b[0m     \u001b[39m# don't even bother calling fetch\u001b[39;00m\n\u001b[1;32m   1654\u001b[0m     \u001b[39mreturn\u001b[39;00m \u001b[39mb\u001b[39m\u001b[39m\"\u001b[39m\u001b[39m\"\u001b[39m\n\u001b[0;32m-> 1655\u001b[0m out \u001b[39m=\u001b[39m \u001b[39mself\u001b[39;49m\u001b[39m.\u001b[39;49mcache\u001b[39m.\u001b[39;49m_fetch(\u001b[39mself\u001b[39;49m\u001b[39m.\u001b[39;49mloc, \u001b[39mself\u001b[39;49m\u001b[39m.\u001b[39;49mloc \u001b[39m+\u001b[39;49m length)\n\u001b[1;32m   1656\u001b[0m \u001b[39mself\u001b[39m\u001b[39m.\u001b[39mloc \u001b[39m+\u001b[39m\u001b[39m=\u001b[39m \u001b[39mlen\u001b[39m(out)\n\u001b[1;32m   1657\u001b[0m \u001b[39mreturn\u001b[39;00m out\n",
      "File \u001b[0;32m~/opt/miniconda3/envs/my-rdkit-env/lib/python3.10/site-packages/fsspec/caching.py:384\u001b[0m, in \u001b[0;36mBytesCache._fetch\u001b[0;34m(self, start, end)\u001b[0m\n\u001b[1;32m    382\u001b[0m     \u001b[39mself\u001b[39m\u001b[39m.\u001b[39mstart \u001b[39m=\u001b[39m start\n\u001b[1;32m    383\u001b[0m \u001b[39melse\u001b[39;00m:\n\u001b[0;32m--> 384\u001b[0m     new \u001b[39m=\u001b[39m \u001b[39mself\u001b[39;49m\u001b[39m.\u001b[39;49mfetcher(start, \u001b[39mself\u001b[39;49m\u001b[39m.\u001b[39;49mstart)\n\u001b[1;32m    385\u001b[0m     \u001b[39mself\u001b[39m\u001b[39m.\u001b[39mstart \u001b[39m=\u001b[39m start\n\u001b[1;32m    386\u001b[0m     \u001b[39mself\u001b[39m\u001b[39m.\u001b[39mcache \u001b[39m=\u001b[39m new \u001b[39m+\u001b[39m \u001b[39mself\u001b[39m\u001b[39m.\u001b[39mcache\n",
      "File \u001b[0;32m~/opt/miniconda3/envs/my-rdkit-env/lib/python3.10/site-packages/s3fs/core.py:2108\u001b[0m, in \u001b[0;36mS3File._fetch_range\u001b[0;34m(self, start, end)\u001b[0m\n\u001b[1;32m   2106\u001b[0m \u001b[39mdef\u001b[39;00m \u001b[39m_fetch_range\u001b[39m(\u001b[39mself\u001b[39m, start, end):\n\u001b[1;32m   2107\u001b[0m     \u001b[39mtry\u001b[39;00m:\n\u001b[0;32m-> 2108\u001b[0m         \u001b[39mreturn\u001b[39;00m _fetch_range(\n\u001b[1;32m   2109\u001b[0m             \u001b[39mself\u001b[39;49m\u001b[39m.\u001b[39;49mfs,\n\u001b[1;32m   2110\u001b[0m             \u001b[39mself\u001b[39;49m\u001b[39m.\u001b[39;49mbucket,\n\u001b[1;32m   2111\u001b[0m             \u001b[39mself\u001b[39;49m\u001b[39m.\u001b[39;49mkey,\n\u001b[1;32m   2112\u001b[0m             \u001b[39mself\u001b[39;49m\u001b[39m.\u001b[39;49mversion_id,\n\u001b[1;32m   2113\u001b[0m             start,\n\u001b[1;32m   2114\u001b[0m             end,\n\u001b[1;32m   2115\u001b[0m             req_kw\u001b[39m=\u001b[39;49m\u001b[39mself\u001b[39;49m\u001b[39m.\u001b[39;49mreq_kw,\n\u001b[1;32m   2116\u001b[0m         )\n\u001b[1;32m   2118\u001b[0m     \u001b[39mexcept\u001b[39;00m \u001b[39mOSError\u001b[39;00m \u001b[39mas\u001b[39;00m ex:\n\u001b[1;32m   2119\u001b[0m         \u001b[39mif\u001b[39;00m ex\u001b[39m.\u001b[39margs[\u001b[39m0\u001b[39m] \u001b[39m==\u001b[39m errno\u001b[39m.\u001b[39mEINVAL \u001b[39mand\u001b[39;00m \u001b[39m\"\u001b[39m\u001b[39mpre-conditions\u001b[39m\u001b[39m\"\u001b[39m \u001b[39min\u001b[39;00m ex\u001b[39m.\u001b[39margs[\u001b[39m1\u001b[39m]:\n",
      "File \u001b[0;32m~/opt/miniconda3/envs/my-rdkit-env/lib/python3.10/site-packages/s3fs/core.py:2251\u001b[0m, in \u001b[0;36m_fetch_range\u001b[0;34m(fs, bucket, key, version_id, start, end, req_kw)\u001b[0m\n\u001b[1;32m   2249\u001b[0m     \u001b[39mreturn\u001b[39;00m \u001b[39mb\u001b[39m\u001b[39m\"\u001b[39m\u001b[39m\"\u001b[39m\n\u001b[1;32m   2250\u001b[0m logger\u001b[39m.\u001b[39mdebug(\u001b[39m\"\u001b[39m\u001b[39mFetch: \u001b[39m\u001b[39m%s\u001b[39;00m\u001b[39m/\u001b[39m\u001b[39m%s\u001b[39;00m\u001b[39m, \u001b[39m\u001b[39m%s\u001b[39;00m\u001b[39m-\u001b[39m\u001b[39m%s\u001b[39;00m\u001b[39m\"\u001b[39m, bucket, key, start, end)\n\u001b[0;32m-> 2251\u001b[0m \u001b[39mreturn\u001b[39;00m sync(fs\u001b[39m.\u001b[39;49mloop, _inner_fetch, fs, bucket, key, version_id, start, end, req_kw)\n",
      "File \u001b[0;32m~/opt/miniconda3/envs/my-rdkit-env/lib/python3.10/site-packages/fsspec/asyn.py:96\u001b[0m, in \u001b[0;36msync\u001b[0;34m(loop, func, timeout, *args, **kwargs)\u001b[0m\n\u001b[1;32m     93\u001b[0m return_result \u001b[39m=\u001b[39m result[\u001b[39m0\u001b[39m]\n\u001b[1;32m     94\u001b[0m \u001b[39mif\u001b[39;00m \u001b[39misinstance\u001b[39m(return_result, asyncio\u001b[39m.\u001b[39mTimeoutError):\n\u001b[1;32m     95\u001b[0m     \u001b[39m# suppress asyncio.TimeoutError, raise FSTimeoutError\u001b[39;00m\n\u001b[0;32m---> 96\u001b[0m     \u001b[39mraise\u001b[39;00m FSTimeoutError \u001b[39mfrom\u001b[39;00m \u001b[39mreturn_result\u001b[39;00m\n\u001b[1;32m     97\u001b[0m \u001b[39melif\u001b[39;00m \u001b[39misinstance\u001b[39m(return_result, \u001b[39mBaseException\u001b[39;00m):\n\u001b[1;32m     98\u001b[0m     \u001b[39mraise\u001b[39;00m return_result\n",
      "\u001b[0;31mFSTimeoutError\u001b[0m: "
     ]
    }
   ],
   "source": [
    "c_filters = [[(\"source\", \"=\", s), (\"version\", \"=\", v)] for s, v in versions.items()]\n",
    "\n",
    "c_df = pd.concat([pd.read_parquet(\n",
    "        f\"{ROOT}/pre_filtered/compounds/molbinary.parquet/\",\n",
    "        filters=filters) for filters in c_filters])"
   ]
  },
  {
   "cell_type": "code",
   "execution_count": null,
   "metadata": {},
   "outputs": [],
   "source": []
  },
  {
   "cell_type": "code",
   "execution_count": null,
   "metadata": {},
   "outputs": [],
   "source": []
  },
  {
   "cell_type": "code",
   "execution_count": null,
   "metadata": {},
   "outputs": [],
   "source": []
  },
  {
   "cell_type": "code",
   "execution_count": 61,
   "metadata": {},
   "outputs": [],
   "source": [
    "tmp1 = tmp[[\"source\", \"version\"]].drop_duplicates()\n",
    "\n",
    "versions = dict(zip(tmp['source'],tmp['version']))"
   ]
  },
  {
   "cell_type": "code",
   "execution_count": 63,
   "metadata": {},
   "outputs": [
    {
     "data": {
      "text/plain": [
       "[[('source', '=', 'acs_jcim_0c00568'), ('version', '=', 'v20200817')],\n",
       " [('source', '=', 'aqsoldb'), ('version', '=', 'v2019')],\n",
       " [('source', '=', 'aqua_solcuration'), ('version', '=', 'v20200701')],\n",
       " [('source', '=', 'chembl_solcuration'), ('version', '=', 'v20200701')],\n",
       " [('source', '=', 'esol_solcuration'), ('version', '=', 'v20200701')],\n",
       " [('source', '=', 'kinect_solcuration'), ('version', '=', 'v20200701')],\n",
       " [('source', '=', 'phys_solcuration'), ('version', '=', 'v20200701')],\n",
       " [('source', '=', 'sg_cp_experiment'), ('version', '=', 'v20220823_1')]]"
      ]
     },
     "execution_count": 63,
     "metadata": {},
     "output_type": "execute_result"
    }
   ],
   "source": [
    "c_filters = [\n",
    "    [(\"source\", \"=\", s), (\"version\", \"=\", v)] for s, v in versions.items()\n",
    "]\n",
    "c_filters"
   ]
  },
  {
   "cell_type": "code",
   "execution_count": 65,
   "metadata": {},
   "outputs": [
    {
     "name": "stdout",
     "output_type": "stream",
     "text": [
      "CPU times: user 27.1 s, sys: 1.72 s, total: 28.8 s\n",
      "Wall time: 5min 37s\n"
     ]
    }
   ],
   "source": [
    "%%time\n",
    "# Get compounds of specific sources utilizing Hive\n",
    "c_df = pd.concat([pd.read_parquet(\n",
    "        f\"{ROOT}/pre_filtered/compounds/molbinary.parquet/\",\n",
    "        filters=filters\n",
    "    )\n",
    "    for filters in c_filters\n",
    "])"
   ]
  },
  {
   "cell_type": "code",
   "execution_count": 67,
   "metadata": {},
   "outputs": [],
   "source": [
    "tmp2 = tmp.merge(\n",
    "    c_df,\n",
    "    left_on=[\"source\", \"version\", \"compound_id\", \"filter\"],\n",
    "    right_on=[\"source\", \"version\", \"id\", \"filter\"],\n",
    "    suffixes=[\"\", \"_c\"],\n",
    ")"
   ]
  },
  {
   "cell_type": "code",
   "execution_count": null,
   "metadata": {},
   "outputs": [],
   "source": []
  },
  {
   "cell_type": "code",
   "execution_count": null,
   "metadata": {},
   "outputs": [],
   "source": []
  }
 ],
 "metadata": {
  "kernelspec": {
   "display_name": "my-rdkit-env",
   "language": "python",
   "name": "python3"
  },
  "language_info": {
   "codemirror_mode": {
    "name": "ipython",
    "version": 3
   },
   "file_extension": ".py",
   "mimetype": "text/x-python",
   "name": "python",
   "nbconvert_exporter": "python",
   "pygments_lexer": "ipython3",
   "version": "3.10.5"
  },
  "orig_nbformat": 4,
  "vscode": {
   "interpreter": {
    "hash": "a4a8335007d6b40fed29553bbf885b224708e826ed93c495e643a636c23f12f8"
   }
  }
 },
 "nbformat": 4,
 "nbformat_minor": 2
}
